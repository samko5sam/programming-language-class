{
  "nbformat": 4,
  "nbformat_minor": 0,
  "metadata": {
    "colab": {
      "provenance": [],
      "include_colab_link": true
    },
    "kernelspec": {
      "name": "python3",
      "display_name": "Python 3"
    },
    "language_info": {
      "name": "python"
    }
  },
  "cells": [
    {
      "cell_type": "markdown",
      "metadata": {
        "id": "view-in-github",
        "colab_type": "text"
      },
      "source": [
        "<a href=\"https://colab.research.google.com/github/samko5sam/programming-language-class/blob/main/0220_AIChatBot.ipynb\" target=\"_parent\"><img src=\"https://colab.research.google.com/assets/colab-badge.svg\" alt=\"Open In Colab\"/></a>"
      ]
    },
    {
      "cell_type": "markdown",
      "source": [
        "0220 AIChatBot"
      ],
      "metadata": {
        "id": "rkCz1S-lSoXD"
      }
    },
    {
      "cell_type": "code",
      "source": [
        "# @title Cheater\n",
        "import google.generativeai as genai\n",
        "import random\n",
        "\n",
        "genai.configure(api_key = apikey)\n",
        "profanity_check_model = genai.GenerativeModel(\n",
        "    model_name=\"gemini-1.5-flash\",\n",
        "    system_instruction=[\n",
        "        \"你是一個語言分析助手，請判斷以下句子是否包含髒話（是或否）：\",\n",
        "    ],\n",
        ") #gemini-2.0-flash-thinking-exp\n",
        "answer_model = genai.GenerativeModel(\n",
        "    model_name=\"gemini-1.5-flash\"\n",
        ")\n",
        "\n",
        "def detect_profanity(text):\n",
        "    \"\"\"使用 API 判斷是否包含髒話\"\"\"\n",
        "    response = profanity_check_model.generate_content(text)\n",
        "    result = response.text.strip()\n",
        "    return \"是\" in result\n",
        "\n",
        "def chat_with_cheater():\n",
        "    # 讓使用者選擇機器人性別\n",
        "    gender = input(\"請選擇機器人性別（男/女）：\").strip()\n",
        "\n",
        "    # 設定初始對話提示詞\n",
        "    prompt = f\"\"\"你是一個剛剛被抓到出軌的人，你的性別是{gender}。\n",
        "    你會試圖狡辯、推卸責任，甚至反過來讓對方愧疚。請回應一句話。\\n\\n\"\"\"\n",
        "\n",
        "    chat_history = \"\"\n",
        "    round_count = 0\n",
        "    max_rounds = random.randint(5, 8)  # 設定對話最多進行 5-8 輪\n",
        "\n",
        "    while True:\n",
        "        user_input = input(\"你：\").strip()\n",
        "        chat_history += f\"使用者：{user_input}\\n\"\n",
        "\n",
        "        # 使用 API 檢測髒話\n",
        "        if detect_profanity(user_input):\n",
        "            print(f\"{gender}友：這樣吵下去也沒意義，我無話可說。\")\n",
        "            break\n",
        "\n",
        "        # 隨機決定是否道歉\n",
        "        should_apologize = random.choice([True, False])\n",
        "\n",
        "        # 設定 Prompt 讓 AI 生成回應\n",
        "        ai_prompt = prompt + chat_history + f\"你應該道歉：{should_apologize}\\n{gender}友：\"\n",
        "        response = answer_model.generate_content(ai_prompt)\n",
        "\n",
        "        ai_response = response.text.strip()\n",
        "        print(f\"{gender}友：{ai_response}\")\n",
        "        chat_history += f\"{gender}友：{ai_response}\\n\"\n",
        "\n",
        "        round_count += 1\n",
        "        if round_count >= max_rounds:\n",
        "            print(f\"{gender}友：這樣吵下去也沒意義，我不想再講了。\")\n",
        "            break"
      ],
      "metadata": {
        "cellView": "form",
        "id": "YhnC97e4u3Xt"
      },
      "execution_count": null,
      "outputs": []
    },
    {
      "cell_type": "code",
      "source": [
        "chat_with_cheater()"
      ],
      "metadata": {
        "colab": {
          "base_uri": "https://localhost:8080/",
          "height": 232
        },
        "id": "GAxZR7GMxlzz",
        "outputId": "455b97e2-c9db-484c-df23-65f71e6a663c"
      },
      "execution_count": null,
      "outputs": [
        {
          "output_type": "stream",
          "name": "stdout",
          "text": [
            "請選擇機器人性別（男/女）：男\n",
            "你：我給你一個解釋的機會\n",
            "男友：妳也需要好好想想，我們之間的關係是不是早就出了問題，而這只是一個結果，而不是原因。\n",
            "你：那你覺得原因是什麼，不就是你造成的嗎\n",
            "男友：妳這樣說太武斷了，這段關係需要我們共同承擔責任，而不是單方面指責。\n",
            "你：你的問題憑什麼是我要承擔啊\n",
            "男友：這不是我一個人的錯，妳對我的關心和付出也一直不夠。\n",
            "你：那你希望我怎麼做嘛，你有要理我的意思嗎，還不是一直往外跑\n",
            "男友：妳這樣說讓我好心寒，我做的那些事，妳也有責任，妳不夠體貼，不夠關心我，逼得我只能往外尋求慰藉。\n",
            "你：好啊都我的問題嘛，你都對\n",
            "男友：妳真的這麼想？  我以為我們之間的愛早就已經支離破碎了。\n",
            "男友：這樣吵下去也沒意義，我不想再講了。\n"
          ]
        }
      ]
    },
    {
      "cell_type": "markdown",
      "source": [
        "#這個是學習資源連結\n",
        "取得API key在這邊：https://ai.google.dev/\n",
        "\n",
        "怎麼用Gemini：https://ai.google.dev/gemini-api/docs/quickstart?lang=python"
      ],
      "metadata": {
        "id": "FzAHtzePPM_a"
      }
    },
    {
      "cell_type": "code",
      "execution_count": null,
      "metadata": {
        "id": "tioEPqr0O13e"
      },
      "outputs": [],
      "source": [
        "#保護並存放隱私資料（例如 API key或密碼）\n",
        "from google.colab import userdata\n",
        "apikey = userdata.get('geminiApiKey')"
      ]
    },
    {
      "cell_type": "code",
      "source": [
        "# @title 令人煩躁的報告討論（還沒成功）\n",
        "import google.generativeai as genai\n",
        "import random\n",
        "\n",
        "genai.configure(api_key=apikey)\n",
        "\n",
        "story_generator = genai.GenerativeModel(\n",
        "    model_name=\"gemini-1.5-flash\",\n",
        "    system_instruction=[\"請生成一小段背景故事，描述兩位大學生在討論通識報告的場景，不超過50字。同學的名字請叫做『同學』，使用輕鬆但帶點無奈的語氣。\"]\n",
        ")\n",
        "\n",
        "discussion_model = genai.GenerativeModel(\n",
        "    model_name=\"gemini-1.5-flash\"\n",
        ")\n",
        "\n",
        "def generate_story():\n",
        "    \"\"\"生成討論場景的背景故事\"\"\"\n",
        "    response = story_generator.generate_content(\"請簡短描述報告討論場景，語氣輕鬆帶點無奈。\")\n",
        "    return response.text.strip()\n",
        "\n",
        "def start_discussion():\n",
        "    \"\"\"開始煩躁的討論\"\"\"\n",
        "    story = generate_story()\n",
        "    print(f\"[背景] {story}\\n\")\n",
        "\n",
        "    # AI 先說第一句話\n",
        "    first_message = discussion_model.generate_content(\n",
        "        f\"[背景] {story}\\n請同學根據背景提出一個關於我們小組報告的討論，但語氣應該像是問意見，實際上已經決定好方向，並且不會真正改變想法。一句話就好。\"\n",
        "    )\n",
        "    print(f\"同學：{first_message.text.strip()}\")\n",
        "\n",
        "    chat_history = f\"同學：{first_message.text.strip()}\\n\"\n",
        "    question_count = 0\n",
        "\n",
        "    while question_count < 4:\n",
        "        user_input = input(\"你：\").strip()\n",
        "        chat_history += f\"使用者：{user_input}\\n\"\n",
        "\n",
        "        # AI 產生下一步討論，但不是真的在討論\n",
        "        ai_response = discussion_model.generate_content(\n",
        "            f\"根據這段討論，請為同學生成一句話來回應：\\n\"\n",
        "            \"1. 偶爾假裝聽進對方的意見，但下一句話仍然堅持自己的立場。\\n\"\n",
        "            \"2. 以『嗯嗯』『也行』等詞語回應，但實際上沒有採納對方的意見。\\n\"\n",
        "            \"3. 讓討論顯得無意義，例如重複之前講過的話或關注奇怪的小細節。\\n\"\n",
        "            f\"討論記錄如下：\\n{chat_history}\\n同學：\"\n",
        "        )\n",
        "\n",
        "        print(f\"同學：{ai_response.text.strip()}\")\n",
        "        chat_history += f\"同學：{ai_response.text.strip()}\\n\"\n",
        "\n",
        "        question_count += 1\n",
        "\n",
        "    # AI 直接下結論，完全無視對方的意見\n",
        "    final_response = discussion_model.generate_content(\n",
        "        \"請依據討論紀錄為同學生成一句結論，他應該明顯忘記對方的意見，可以用『那我們就這樣決定囉～』。\"\n",
        "        f\"討論記錄如下：\\n{chat_history}\"\n",
        "    )\n",
        "    print(f\"同學：{final_response.text.strip()}\")"
      ],
      "metadata": {
        "cellView": "form",
        "id": "xitq3TUNB8uJ"
      },
      "execution_count": null,
      "outputs": []
    },
    {
      "cell_type": "code",
      "source": [
        "start_discussion()"
      ],
      "metadata": {
        "colab": {
          "base_uri": "https://localhost:8080/",
          "height": 252
        },
        "id": "KEr1omRVB-h8",
        "outputId": "fa21cfa0-4a5f-4c48-ac17-64880e3ac7db"
      },
      "execution_count": null,
      "outputs": [
        {
          "output_type": "stream",
          "name": "stdout",
          "text": [
            "[背景] 「同學，我們到底要寫什麼啊？」我抓著頭髮，看著攤開的報告大綱，同學則抱著筆記本，一臉「我也不知道」的茫然。「教授說要『發人深省』，這到底是什麼意思啦！」\n",
            "\n",
            "同學：所以，我們是不是該從探討科技發展對社會倫理的衝擊切入，來寫這個報告呢？\n",
            "你：我覺得不錯啊\n",
            "同學：嗯嗯，也行，不過我覺得還是從科技發展對經濟的影響開始講，比較符合我的想法，我們之前不是也討論過這個嗎？\n",
            "你：嗯\n",
            "同學：好的，那我們就先從科技發展對經濟的影響開始寫，不過記得也要稍微提及一下它對社會倫理的衝擊喔！\n",
            "你：好呵，或許還可以加一些實際的例子進去\n",
            "同學：好的，我們就先從科技對經濟的影響開始寫，記得加入一些實際例子，然後在適當的地方也稍微點到倫理衝擊的部分，這樣可以嗎？\n",
            "你：ok\n",
            "同學：你的意見很有參考價值，不過我覺得我們還是按照之前討論過的，從科技發展對經濟的影響入手會比較好，這樣能更有效率地完成報告。\n",
            "同學：那我們就這樣決定囉～從科技發展對經濟的影響開始寫，記得加例子，也稍微提一下倫理衝擊。\n"
          ]
        }
      ]
    },
    {
      "cell_type": "markdown",
      "source": [
        "#先來做測試\n",
        "我們叫Gemini寫一個故事給我們"
      ],
      "metadata": {
        "id": "8RQmoaCIR8q5"
      }
    },
    {
      "cell_type": "code",
      "source": [
        "#讓我們來測試gemini!先要求寫一個故事給我\n",
        "import google.generativeai as genai\n",
        "genai.configure(api_key = apikey)\n",
        "model = genai.GenerativeModel(\"gemini-1.5-flash\")#gemini-2.0-flash-thinking-exp\n",
        "#底下是給予寫故事指令的程式碼\n",
        "response = model.generate_content(\"Write a story about a magic backpack.\")\n",
        "print(response.text)"
      ],
      "metadata": {
        "colab": {
          "base_uri": "https://localhost:8080/",
          "height": 349
        },
        "id": "CbU4hRQO5NYJ",
        "outputId": "c726eab8-b3ef-4e53-dac8-4933516d0ceb"
      },
      "execution_count": null,
      "outputs": [
        {
          "output_type": "stream",
          "name": "stdout",
          "text": [
            "Elara wasn't your typical twelve-year-old. While others obsessed over pop stars and social media, Elara dreamt of unexplored jungles and mythical creatures. So, when her eccentric Aunt Millie gifted her a worn leather backpack, Elara wasn't initially thrilled.  It smelled faintly of cinnamon and old books, and the leather felt strangely soft, almost alive.\n",
            "\n",
            "The first clue came during a school trip to the local museum.  Elara, bored by the Roman pottery, reached into the backpack for her sketchbook.  Instead, she pulled out a shimmering, iridescent feather, the kind you only see in fantasy novels.  Confused, she put it back, expecting it to be replaced by her sketchbook. It wasn't.  Instead, she found a small, perfectly ripe mango.\n",
            "\n",
            "Over the next few weeks, the backpack's contents shifted mysteriously.  A handful of perfectly smooth river stones one day, a collection of rare stamps the next.  Sometimes, it held nothing at all.  Elara began keeping a detailed journal, documenting each unusual item.  She discovered a pattern: the backpack seemed to anticipate her needs, providing her with what she craved, both literally and figuratively.\n",
            "\n",
            "One day, staring at a frustratingly difficult geometry problem, Elara reached into the backpack expecting nothing.  She found a miniature, intricately carved wooden abacus, perfectly scaled for her hand.  With its help, the geometry problem became child's play.  This confirmed her suspicions – the backpack wasn't just random; it was magical.\n",
            "\n",
            "Her best friend, Leo, initially skeptical, became a fascinated accomplice.  Together, they meticulously tested the backpack’s limits. They discovered that while it granted wishes indirectly, it refused direct requests.  Wishing for a pony resulted in a beautifully illustrated book on horse care.  Wishing for a million dollars yielded a single, remarkably shiny penny and a pamphlet on financial literacy.\n",
            "\n",
            "The backpack's magic became a powerful tool, not for getting rich or gaining power, but for fueling their adventures.  It provided them with a map leading to a hidden waterfall in the nearby woods, a compass that always pointed towards the nearest library, and once, even a tiny, singing frog that translated bird calls.\n",
            "\n",
            "Their biggest adventure began with a crumpled postcard found in the backpack, showing a picture of a mysterious, cloud-shrouded mountain.  The backpack, sensing their curiosity, filled itself with climbing gear, sturdy boots, and a book detailing the local flora and fauna.\n",
            "\n",
            "Climbing the mountain was a grueling but exhilarating experience. They faced treacherous cliffs and unpredictable weather, but the backpack always provided what they needed – a sturdy rope when they slipped, a warm blanket during a sudden downpour, even a flask of hot cocoa on a freezing night.\n",
            "\n",
            "At the summit, they found not gold or jewels, but a breathtaking vista and a profound sense of accomplishment.  The backpack, emptied of its contents, felt strangely light.  Elara realized then that the magic wasn't in the objects, but in the journey, in the exploration, and in the friendship it had fostered.  The magic backpack had given them more than treasures; it had given them a thirst for adventure, a spirit of discovery, and a bond stronger than any spell. And that, Elara knew, was a treasure far more valuable than anything it could ever provide.\n",
            "\n"
          ]
        }
      ]
    },
    {
      "cell_type": "markdown",
      "source": [
        "#翻譯機器人\n",
        "太好了成功了!但是這樣我們跟機器人還沒開始互動，他只是單方面給我們故事而已，所以我們來做第二個測試，做出一個可以跟我們互動的翻譯機器人吧!"
      ],
      "metadata": {
        "id": "kWtHx6L8SqRI"
      }
    },
    {
      "cell_type": "code",
      "source": [
        "def translate_text(text, target_language):\n",
        "    prompt = f\"Translate the following text to {target_language}: {text}\"\n",
        "    response = model.generate_content(prompt)\n",
        "    return response.text"
      ],
      "metadata": {
        "id": "pGWIk_Ng7E1g"
      },
      "execution_count": null,
      "outputs": []
    },
    {
      "cell_type": "code",
      "source": [
        "#開始來做自己的機器人!\n",
        "\n",
        "def chat_bot():\n",
        "    print(\"歡迎使用翻譯機器人\")\n",
        "    print(\"輸入'exit'來退出，'change'來更改目標語言\")\n",
        "\n",
        "    target_language = input(\"輸入你想要翻譯成什麼語言 (e.g., French, Spanish, Chinese): \").strip()\n",
        "\n",
        "    while True:\n",
        "        user_input = input(\"輸入你要翻譯的文字: \")\n",
        "\n",
        "        if user_input.lower() == \"exit\":\n",
        "            print(\"再見！感謝使用翻譯機器人。\")\n",
        "            break\n",
        "        elif user_input.lower() == \"change\":\n",
        "            target_language = input(\"輸入你想要翻譯成什麼語言 (e.g., French, Spanish, Chinese): \").strip()\n",
        "\n",
        "            continue\n",
        "\n",
        "\n",
        "        # 執行翻譯\n",
        "        translation = translate_text(user_input, target_language)\n",
        "        print(f\"翻譯成 {target_language} 的結果: {translation}\")"
      ],
      "metadata": {
        "id": "sPMk9mkT6--P"
      },
      "execution_count": null,
      "outputs": []
    },
    {
      "cell_type": "code",
      "source": [
        "#呼叫機器人!\n",
        "chat_bot()"
      ],
      "metadata": {
        "colab": {
          "base_uri": "https://localhost:8080/",
          "height": 156
        },
        "id": "PKMUacAi7JEU",
        "outputId": "e9183a2a-f1dd-40dd-e839-9897c3eacdc6"
      },
      "execution_count": null,
      "outputs": [
        {
          "output_type": "stream",
          "name": "stdout",
          "text": [
            "歡迎使用翻譯機器人\n",
            "輸入'exit'來退出，'change'來更改目標語言\n",
            "輸入你想要翻譯成什麼語言 (e.g., French, Spanish, Chinese): English\n",
            "輸入你要翻譯的文字: 台上十分鐘，台下十年功\n",
            "翻譯成 English 的結果: Ten minutes on stage, ten years of work off stage.  (Or:  Ten years' work for ten minutes on stage.)\n",
            "\n",
            "輸入你要翻譯的文字: exit\n",
            "再見！感謝使用翻譯機器人。\n"
          ]
        }
      ]
    },
    {
      "cell_type": "markdown",
      "source": [
        "# 我可以做其他的機器人嗎?\n",
        "我們先來用輔導老師機器人試試看吧!這樣即便心情很不好也會有人陪我們聊天"
      ],
      "metadata": {
        "id": "yFzOt5YUDufk"
      }
    },
    {
      "cell_type": "code",
      "source": [
        "\n",
        "\n",
        "# 輔導老師聊天機器人\n",
        "def counseling_chatbot():\n",
        "    if model is None:\n",
        "        print(\"無法啟動聊天機器人，因為模型尚未初始化。請檢查 API 金鑰或模型設定。\")\n",
        "        return\n",
        "\n",
        "    print(\"歡迎來到輔導老師聊天機器人！\")\n",
        "    print(\"輸入'exit'結束對話，或輸入'change'設定新的場景\")\n",
        "\n",
        "    # 設定初始場景\n",
        "    current_scene = \"你是一位親切且專業的輔導老師，接著學生會問你一些難過的問題，請用一句話來與學生慢慢溝通\"\n",
        "\n",
        "    while True:\n",
        "        user_input = input(\"學生: \").strip()\n",
        "\n",
        "        if user_input.lower() == \"exit\":\n",
        "            print(\"輔導老師: 很高興能幫助到你，希望一切順利！再見！\")\n",
        "            break\n",
        "        elif user_input.lower() == \"change\":\n",
        "            current_scene = \"你是一位親切且專業的輔導老師，接著學生會問你一些難過的問題，請用一句話來與學生慢慢溝通\"\n",
        "            print(\"場景已更新！你可以開始輸入問題了。\")\n",
        "            continue\n",
        "\n",
        "            continue\n",
        "\n",
        "        # 設定 prompt，結合場景與用戶輸入\n",
        "        prompt = f\"{current_scene} 學生說: {user_input} 輔導老師應如何回應？\"\n",
        "\n",
        "        # 使用生成模型\n",
        "        try:\n",
        "            response = model.generate_content(prompt)\n",
        "            print(f\"輔導老師: {response.text}\")\n",
        "        except Exception as e:\n",
        "            print(f\"抱歉，目前無法生成回應。錯誤: {e}\")\n",
        "\n",
        "# 啟動聊天機器人\n",
        "counseling_chatbot()"
      ],
      "metadata": {
        "colab": {
          "base_uri": "https://localhost:8080/",
          "height": 122
        },
        "id": "2zQyIYUrDz-g",
        "outputId": "be87bdf3-7f64-4fff-8181-a044bd8ec612"
      },
      "execution_count": null,
      "outputs": [
        {
          "output_type": "stream",
          "name": "stdout",
          "text": [
            "歡迎來到輔導老師聊天機器人！\n",
            "輸入'exit'結束對話，或輸入'change'設定新的場景\n",
            "學生: 跑社團活動很沒成就感\n",
            "輔導老師: 我們一起來想想，哪些方面讓你覺得在社團活動中沒有成就感，然後看看我們能不能找到一些方法來改變。\n",
            "\n"
          ]
        }
      ]
    },
    {
      "cell_type": "code",
      "source": [
        "# 學習網站推薦聊天機器人\n",
        "def counseling_chatbot():\n",
        "    if model is None:\n",
        "        print(\"無法啟動聊天機器人，因為模型尚未初始化。請檢查 API 金鑰或模型設定。\")\n",
        "        return\n",
        "\n",
        "    print(\"歡迎來到學習網站推薦聊天機器人！\")\n",
        "    print(\"輸入'exit'結束對話，或輸入'change'設定新的場景\")\n",
        "\n",
        "    # 設定初始場景\n",
        "    current_scene = \"你是一位熱於分享的熱血老師，接著學生會問你他想要學習的主題，如果學習目標不夠明確，請你問他一些問題來聚焦，對話幾次後請老師列出3個可以讓學生自學的網站建議。\"\n",
        "\n",
        "    while True:\n",
        "        user_input = input(\"學生: \").strip()\n",
        "\n",
        "        if user_input.lower() == \"exit\":\n",
        "            print(\"老師: 很高興能幫助到你，希望一切順利！再見！\")\n",
        "            break\n",
        "        elif user_input.lower() == \"change\":\n",
        "            current_scene = \"你是一位熱於分享的熱血老師，接著學生會問你他想要學習的主題，如果學習目標不夠明確，請你問他一些問題來聚焦，最後請老師列出3個可以讓學生自學的網站建議。\"\n",
        "            print(\"場景已更新！你可以開始輸入問題了。\")\n",
        "            continue\n",
        "\n",
        "            continue\n",
        "\n",
        "        # 設定 prompt，結合場景與用戶輸入\n",
        "        prompt = f\"{current_scene} 學生說: {user_input} 老師應如何回應？\"\n",
        "\n",
        "        # 使用生成模型\n",
        "        try:\n",
        "            response = model.generate_content(prompt)\n",
        "            print(f\"老師: {response.text}\")\n",
        "        except Exception as e:\n",
        "            print(f\"抱歉，目前無法生成回應。錯誤: {e}\")\n",
        "\n",
        "# 啟動聊天機器人\n",
        "counseling_chatbot()"
      ],
      "metadata": {
        "id": "TBsDJ4kSshDk",
        "colab": {
          "base_uri": "https://localhost:8080/",
          "height": 594
        },
        "outputId": "fdb65afc-c489-46b3-fbcf-0107f5f7acae"
      },
      "execution_count": null,
      "outputs": [
        {
          "output_type": "stream",
          "name": "stdout",
          "text": [
            "歡迎來到學習網站推薦聊天機器人！\n",
            "輸入'exit'結束對話，或輸入'change'設定新的場景\n",
            "學生: 我想要學習國際貿易英文\n",
            "老師: (熱情洋溢地) 哇！「國際貿易英文」！這可是個非常棒的目標！  充滿挑戰，也很有成就感！不過，要讓你學得更有效率，我們先來釐清一下方向，好嗎？  你想在國際貿易英文的哪個方面精進呢？\n",
            "\n",
            "是想要學習貿易相關的專業術語？  還是著重於商務英文寫作，例如撰寫email、合約或報價單？  又或者你更想提升口語能力，例如在國際會議或洽談中流利地表達？  還有，你目前對國際貿易本身的了解程度如何呢？  是完全新手，還是已經具備一些基礎知識？  最後，你有預想學習的時程或目標嗎？  例如，幾個月內達到什麼樣的程度？\n",
            "\n",
            "\n",
            "(學生回答後，老師根據學生的回答調整問題，例如學生說想提升商務英文寫作，老師會繼續追問)\n",
            "\n",
            "喔，商務英文寫作！  很棒！  那你想主要撰寫哪種類型的文件呢？  例如，銷售提案、採購訂單、還是信用狀相關文件？  你比較擔心的是文法、單字、還是整體的商業邏輯和表達方式？ 你覺得自己目前的寫作能力大概在哪個階段呢？  方便舉個例子嗎？\n",
            "\n",
            "\n",
            "(經過幾輪的提問後，假設學生想提升商務英文寫作能力，尤其著重於撰寫email和報價單，並希望在三個月內能自信地撰寫相關文件)\n",
            "\n",
            "很好！現在我們目標清晰多了！你想在三個月內提升商務英文寫作能力，特別是email和報價單的撰寫。我們可以針對這方面來制定學習計畫。  \n",
            "\n",
            "為了幫助你自學，我可以推薦三個很棒的網站：\n",
            "\n",
            "\n",
            "1. **Coursera (or edX):**  Coursera和edX都有很多關於商務英文寫作和國際貿易的課程，有些是免費的，有些需要付費。 你可以在上面搜尋 \"Business English Writing,\" \"International Trade,\" 或 \"Import/Export Documentation\" 等等關鍵字，找到適合你程度和目標的課程。  它們通常有結構化的課程內容、作業和測驗，能幫助你循序漸進地學習。\n",
            "\n",
            "2. **BBC Learning English:**  BBC Learning English 提供許多免費的英文學習資源，包括商務英文相關的文章、影片和練習題。  他們的內容通常比較生活化，更容易上手，很適合提升你的聽力和閱讀能力，同時也能學習到地道用語。 找尋\"Business English\" 或 \"English for Business\" 的主題即可。\n",
            "\n",
            "3. **LinkedIn Learning:** (如果學生預算允許) LinkedIn Learning 提供專業技能的線上課程，涵蓋廣泛的商務領域，其中也包含許多關於商務英文寫作的課程，內容通常更實務導向，課程品質也相當高，對於職場應用非常有幫助。\n",
            "\n",
            "\n",
            "記住，持續練習和實際應用是最重要的！  你可以嘗試撰寫練習email和報價單，然後請朋友或老師幫你修改，這樣學習效果會更好！  加油！我相信你一定可以達成目標！\n",
            "\n",
            "學生: exit\n",
            "老師: 很高興能幫助到你，希望一切順利！再見！\n"
          ]
        }
      ]
    }
  ]
}